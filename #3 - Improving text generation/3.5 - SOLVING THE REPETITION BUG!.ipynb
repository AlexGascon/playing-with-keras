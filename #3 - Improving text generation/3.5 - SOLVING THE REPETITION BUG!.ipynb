{
 "cells": [
  {
   "cell_type": "markdown",
   "metadata": {},
   "source": [
    "## 3.5 - Solving the repetition bug!\n",
    "That's it! After a long time trying to change every possible parameter and trying to find every possible explanation, I've finally managed to solve the bug that caused my output to repeat over and over!\n",
    "\n",
    "The problem was the one I tried to solve first: we need to randomize the prediction instead of simply taking the argument with max probability. However, I was randomizing it wrong. Therefore, we'll change the function we were using to select a character randomly for the following one, found at one of the examples that the Keras framework has on its own repository"
   ]
  },
  {
   "cell_type": "code",
   "execution_count": null,
   "metadata": {
    "collapsed": true
   },
   "outputs": [],
   "source": [
    "def sample(preds, temperature=1.0):\n",
    "    # helper function to sample an index from a probability array\n",
    "    preds = np.asarray(preds).astype('float64')\n",
    "    preds = np.log(preds) / temperature\n",
    "    exp_preds = np.exp(preds)\n",
    "    preds = exp_preds / np.sum(exp_preds)\n",
    "    probas = np.random.multinomial(1, preds, 1)\n",
    "    return np.argmax(probas)"
   ]
  },
  {
   "cell_type": "markdown",
   "metadata": {},
   "source": [
    "Besides, this method has a very interesting feature: by using the parameter *temperature*, we can affect the randomness of the prediction. This lets us tune the output, for example, if we get one that is too noisy or too deterministic. Below we can see some of the results depending on the value of the temperature parameter:\n",
    "\n",
    "*This results have been obtained using a RNN with two LSTM layers of 256 units each, with a 0.1 dropout probability*"
   ]
  },
  {
   "cell_type": "markdown",
   "metadata": {},
   "source": [
    "### Seed\n",
    "The seed to use will be the following sentence:\n",
    "\n",
    "*\"It's not a story the Jedi would tell you. It's a Sith legend. Darth Plagueis was a Dark Lord of the \"*"
   ]
  },
  {
   "cell_type": "markdown",
   "metadata": {},
   "source": [
    "#### Temperature = 1.0\n",
    "*it's not a story the jedi would tell you. it's a sith legend. darth plagueis was a dark lord of the fyer.\n",
    "has erually fally it but thinkon grom to know what i have policed him to\n",
    "this obrtattini to a hapb lockes from leavt of the street, and you refrle\n",
    "that this disfat is there in perseneito, on their parrnatiy. for\n",
    "browg, they saee for goer again you will gave your mumber- in your\n",
    "race. but now that whll dach into the caute in you and nrt. and\n",
    "supuleoe reading for a fitsas hair with that poeking the janpers!'*\n",
    "\n",
    "*left un a low conduct doun yith at dasker. it welp ttoop into all her\n",
    "mumb*"
   ]
  },
  {
   "cell_type": "markdown",
   "metadata": {},
   "source": [
    "#### Temperature = 1.3\n",
    "\n",
    "*it's not a story the jedi would tell you. it's a sith legend. darth plagueis was a dark lord of the hovo,sate\n",
    "intissing thdm, molseigneignt is clampabpe without foornacke on\n",
    "eveg whth a sheh anlb village, but i assured het long digvef- to\n",
    "a.smle wom fra liw, 'passicue cause.' it shelpy rownd vanes, bx any\n",
    "manner!her!gacet wish tn it much ie thefr oniyeml dafeling to\n",
    "tioee every foullo pnerte bacgppsr that shall yet. if it?'but it.\"iere\n",
    "they natural distoart- yhu our persoehnodi,lmowt anoise meiable layg,\n",
    "and divingtence in flitabt, particl;'*\n",
    "\n",
    "*'dhd'\" whime slaln dhsotsbeaes, lor only s*"
   ]
  },
  {
   "cell_type": "markdown",
   "metadata": {},
   "source": [
    "#### Temperature = 1.5\n",
    "*it's not a story the jedi would tell you. it's a sith legend. darth plagueis was a dark lord of the king\n",
    "inpristiona''-though earney fuants foos.-will show what eotioe in\n",
    "tcien:'*\n",
    "\n",
    "*'what will it,\" saent tha bmonh upun our peclapgfn lumgt.'\n",
    "bulddiemr tahl swdsbyls? turn c have pua elgnane,'i had, ipv-ditgrsousre.\n",
    "eotndineu than little openclosuless qerhaps ithey what hes neo he atkld no\n",
    "peiexirner toleret.ranh- gor ptovide at sev oo dytromy sysruw, opllrmiog'\n",
    "aml qapbpcey on bedo and strongiog cross mnrry hop, nobieneso'anh\n",
    "wetitoi!iag eighedetny tup iflpief tell yafkw,*\n",
    "\n",
    "*my letter sed*"
   ]
  },
  {
   "cell_type": "markdown",
   "metadata": {},
   "source": [
    "#### Temperature = 2\n",
    "\n",
    "*it's not a story the jedi would tell you. it's a sith legend. darth plagueis was a dark lord of the onci,\n",
    "cn\n",
    "casus iamp bbcaved,'nixeu!tm paoe; no. wems towt?nn!tqldy a\n",
    "thankt,' srotb;lr, rlyocnt whyn i swo\n",
    "morning;*\n",
    "\n",
    "*on nuebr,llnttloanm. thenran wo hodh! sigmilg woittr,vsat.'fnosu?j within'\"\n",
    " \"brtent, uenms.*\n",
    "\n",
    "*yes thas, at lea sarplian!hovary have ataweus sabble, wemt up ar\n",
    "rscrr upbnoktn uppevsanc-re,l nrrt!set the horepent vhist yeotou,ckderl\n",
    "get lisiifyl.nkstept fxrurc) i see 'mow!*\n",
    "\n",
    "*\"con ttiialt leit.rawmlpy?  eeers obje   ra!'*\n",
    "\n",
    "*there? hpleou rnayed ocfyef, sat vouil acliing;*"
   ]
  },
  {
   "cell_type": "markdown",
   "metadata": {},
   "source": [
    "#### Temperature = 0.8\n",
    "\n",
    "*it's not a story the jedi would tell you. it's a sith legend. darth plagueis was a dark lord of the sola\n",
    "which we sedrre in the time to a good mort down side of his confusion,\n",
    "and when the rhggt crawi spoken was ott to pass. he was to celiae,\n",
    "while mr. lorry seemed to be seated and world out of her own back by\n",
    "entered and ring for a compentiatire.will of the convinced one of the\n",
    "horses, and ctime whth c strpng, she was tenl a nomlce, and down so\n",
    "his right entrace.'*\n",
    "\n",
    "*'i have more help the metses.'*\n",
    "\n",
    "*befan into the send-lowred,*\n",
    "\n",
    "*'consed in the doctor, mo. and i have aclupwed them love*"
   ]
  },
  {
   "cell_type": "markdown",
   "metadata": {},
   "source": [
    "#### Temperature = 0.5\n",
    "*it's not a story the jedi would tell you. it's a sith legend. darth plagueis was a dark lord of the dour\n",
    "which she was exer through the winder, who contidered the courte of\n",
    "a long oef in the least in her own secret, and she sat the seme all\n",
    "the world of the conmection of the courtyard of monsieur her eate her\n",
    "heads, and were for him to depire the single street, the sense of your\n",
    "being for it of the man who seemed to me that i have not been a\n",
    "mistake of the sacref family, at his father of the world of the roite\n",
    "which he was perfectly be explained with a gentleman seem that it was\n",
    "the fi*"
   ]
  },
  {
   "cell_type": "markdown",
   "metadata": {},
   "source": [
    "#### Temperature = 0.3\n",
    "\n",
    "*it's not a story the jedi would tell you. it's a sith legend. darth plagueis was a dark lord of the morning\n",
    "of the sense of my eeeect of the distinction of the seat which i\n",
    "have been a little sonth and down to the prove to the garden that\n",
    "i have been more than the astistance to my sister on the sole fortune\n",
    "of the connection to me, and the man who was a probeeding man who\n",
    "was only so many that any of the secret of the course of the conmection\n",
    "of the door of the ease of the seat of the sight of fortune to him.*\n",
    "\n",
    "*'i have been the face to the world in the soitit of the man who was\n",
    "an expl*"
   ]
  },
  {
   "cell_type": "markdown",
   "metadata": {},
   "source": [
    "### Analysis\n",
    "As we can see, the lower the prediction temperature, the better the generation. This happens because we reduce the randomness of the prediction, tending to more conservative possibilities (which, as we can see, generates better results). \n",
    "\n",
    "This also means that we still have to make some improvements to our model, because if it was perfect we shouldn't need to  reduce the temperature to such a low level to get optimal results. Therefore, we'll keep developing the system to improve its text generation as much as we can. Keep visiting this repository to get updates!"
   ]
  },
  {
   "cell_type": "code",
   "execution_count": null,
   "metadata": {
    "collapsed": true
   },
   "outputs": [],
   "source": []
  }
 ],
 "metadata": {
  "kernelspec": {
   "display_name": "Python 2",
   "language": "python",
   "name": "python2"
  },
  "language_info": {
   "codemirror_mode": {
    "name": "ipython",
    "version": 2
   },
   "file_extension": ".py",
   "mimetype": "text/x-python",
   "name": "python",
   "nbconvert_exporter": "python",
   "pygments_lexer": "ipython2",
   "version": "2.7.13"
  }
 },
 "nbformat": 4,
 "nbformat_minor": 2
}

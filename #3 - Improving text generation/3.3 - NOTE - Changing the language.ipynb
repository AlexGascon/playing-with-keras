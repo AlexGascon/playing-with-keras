{
 "cells": [
  {
   "cell_type": "markdown",
   "metadata": {},
   "source": [
    "## 3.3 - NOTE: Changing the language\n",
    "The changes we've implemented in the past notebooks have given us a small increment in the accuracy of the predictions, but we still don't have a result that we could consider satisfactory. That's why we're going to implement a new change that may give us a boost in efficiency: we're going to change the language back to English. \n",
    "\n",
    "On the latest notebooks we've been using datasets in Spanish for training our RNN, an the main reason for it is that I wanted to see effective results on my mother tongue. However, this decision comes with a problem: as we have letters with accents and other extra accentuations symbols, we end with a bigger pool of characters to read, and therefore, to learn and predict. And while this shouldn't be very significant in a completely functional neural net, as we're still trying to find a correct way of generating characters we need to implement every possible technique that increases our accuracy. Maybe we can go back to Spanish after a few more improvements, but for the moment we'll stick with an easier language. \n",
    "\n",
    "With these change, we'll also change the books we're going to use as our dataset; we're going to change El Quijote with a combination of three different books: **A tale of two cities**, by Charles Dickens; **Pride and Prejudice**, by Jane Austen; and **The adventures of Sherlock Holmes**, by Arthur Conan Doyle. Combining them we get a dataset of about 2MB.\n",
    "\n",
    "We can see the effect of these changes on the following notebooks. "
   ]
  },
  {
   "cell_type": "code",
   "execution_count": null,
   "metadata": {
    "collapsed": true
   },
   "outputs": [],
   "source": []
  }
 ],
 "metadata": {
  "kernelspec": {
   "display_name": "Python 2",
   "language": "python",
   "name": "python2"
  },
  "language_info": {
   "codemirror_mode": {
    "name": "ipython",
    "version": 2
   },
   "file_extension": ".py",
   "mimetype": "text/x-python",
   "name": "python",
   "nbconvert_exporter": "python",
   "pygments_lexer": "ipython2",
   "version": "2.7.13"
  }
 },
 "nbformat": 4,
 "nbformat_minor": 2
}

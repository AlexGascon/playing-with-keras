{
 "cells": [
  {
   "cell_type": "markdown",
   "metadata": {},
   "source": [
    "# Improving text generation with (larger) LSTM RNN\n",
    "\n",
    "By Alex Gascón Bononad - alexgascon.93@gmail.com\n",
    "\n",
    "## 0. Introduction\n",
    "\n",
    "### 0.1. Introduction to the Notebook\n",
    "The main objective of this notebook is to improve the work we ended with on the notebook #2 of this repository, in order to make more accurate predicitons\n",
    "\n"
   ]
  },
  {
   "cell_type": "markdown",
   "metadata": {},
   "source": [
    "## 1. Description\n",
    "If you remember properly, in the last notebook we ended up having a trained model that was able to generate text by predicting the next character of a 100 character string. And, although the text was almost perfect grammatically, it wasn't it so much syntactically or semantically, as the model repeated the same string over and over again.\n",
    "\n",
    "Now, what we're going to do is to try different approaches and see the effects they have on the model, in order to improve those problems. "
   ]
  },
  {
   "cell_type": "code",
   "execution_count": null,
   "metadata": {
    "collapsed": true
   },
   "outputs": [],
   "source": []
  }
 ],
 "metadata": {
  "kernelspec": {
   "display_name": "Python 2",
   "language": "python",
   "name": "python2"
  },
  "language_info": {
   "codemirror_mode": {
    "name": "ipython",
    "version": 2
   },
   "file_extension": ".py",
   "mimetype": "text/x-python",
   "name": "python",
   "nbconvert_exporter": "python",
   "pygments_lexer": "ipython2",
   "version": "2.7.13"
  }
 },
 "nbformat": 4,
 "nbformat_minor": 2
}

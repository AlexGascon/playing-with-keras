{
 "cells": [
  {
   "cell_type": "markdown",
   "metadata": {},
   "source": [
    "## 4.0 - Automated text rating: introduction\n",
    "\n",
    "Now that we've almost solved the problems of our next character prediction system, the next steps will lean towards tuning its parameters until we found the ones that make it the closest to an optimal generation. \n",
    "\n",
    "However, there are a lot of possible configurations to try, and we'll need to use each one of them several times to have a better understanding of its actual performance; obtaining only one result for each configuration may result in us choosing one which outputs a good result by chance, instead of choosing the best one. Therefore, it's quite clear that we need several outputs per configuration, and that its average optimality will be the optimality of the system.\n",
    "\n",
    "The problem is that this will undoubtedly produce a huge amount of different texts, and probably most of them look incredibly similar. Then, how can we choose which one of them is the best one? \n",
    "\n",
    "We need to change the process we've been following. Instead of determining the best system by subjectively choosing the one whose text looks more realistic, we're going to establish a rating system that we'll use to assign a numeric score to each text according to its correctness. This numeric score will let us have a measurable way to determinate which configuration results in the best performance, and to discover if some changes affect or not the correctness of the result.\n"
   ]
  }
 ],
 "metadata": {
  "kernelspec": {
   "display_name": "Python 2",
   "language": "python",
   "name": "python2"
  },
  "language_info": {
   "codemirror_mode": {
    "name": "ipython",
    "version": 2
   },
   "file_extension": ".py",
   "mimetype": "text/x-python",
   "name": "python",
   "nbconvert_exporter": "python",
   "pygments_lexer": "ipython2",
   "version": "2.7.13"
  }
 },
 "nbformat": 4,
 "nbformat_minor": 2
}

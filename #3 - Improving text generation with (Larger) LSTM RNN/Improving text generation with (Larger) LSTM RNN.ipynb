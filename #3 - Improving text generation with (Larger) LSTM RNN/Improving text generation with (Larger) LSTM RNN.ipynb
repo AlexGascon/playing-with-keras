{
 "cells": [
  {
   "cell_type": "markdown",
   "metadata": {},
   "source": [
    "# Improving text generation with (larger) LSTM RNN\n",
    "\n",
    "By Alex Gascón Bononad - alexgascon.93@gmail.com\n",
    "\n",
    "## 0. Introduction\n",
    "\n",
    "### 0.1. Introduction to the Notebook\n",
    "The main objective of this notebook is to improve the work we ended with on the notebook #2 of this repository, in order to make more accurate predicitons\n",
    "\n"
   ]
  },
  {
   "cell_type": "markdown",
   "metadata": {},
   "source": [
    "## 1. Description\n",
    "If you remember properly, in the last notebook we ended up having a trained model that was able to generate text by predicting the next character of a 100 character string. And, although the text was almost perfect grammatically, it wasn't it so much syntactically or semantically, as the model repeated the same string over and over again.\n",
    "\n",
    "Now, what we're going to do is to try different approaches and see the effects they have on the model, in order to improve those problems. "
   ]
  },
  {
   "cell_type": "markdown",
   "metadata": {},
   "source": [
    "## 2. Implementing improvements\n",
    "\n",
    "### 2.1. Randomizing our prediction\n",
    "The first approach we're going to try is to randomize our character prediction. However, with an important detail: the random distribution we'll use will be given by the output of our RNN.\n",
    "\n",
    "Our RNN outputs an array of floating point numbers compressed between 0 and 1, each one representing the probability of the character in that position of being the most suitable option for the prediction. However, currently we search for the most suitable one and select it as our result. What we're going to try now, instead, is to randomize our prediction while taking into account this probabilities. \n",
    "\n",
    "We'll achieve this by using the output array of our RNN as the [Density Probability Function](https://es.wikipedia.org/wiki/Funci%C3%B3n_de_densidad_de_probabilidad) [1] for our randomized prediction. As this array contains the probability of each character, the sum of all its elements will always be 1 (because the probability of our prediction being a character, no matter which one, is 1). Let's see it with an example\n"
   ]
  },
  {
   "cell_type": "markdown",
   "metadata": {},
   "source": [
    "We're going to load our last model and try to predict a random character, in order to see the output we get (the code is the same we've already used on previous notebooks, so don't worry about it)"
   ]
  },
  {
   "cell_type": "code",
   "execution_count": 1,
   "metadata": {
    "collapsed": false
   },
   "outputs": [
    {
     "name": "stderr",
     "output_type": "stream",
     "text": [
      "Using Theano backend.\n",
      "Using gpu device 0: GeForce GTX 960M (CNMeM is disabled, cuDNN not available)\n"
     ]
    }
   ],
   "source": [
    "import numpy as np\n",
    "import matplotlib.pyplot as plt\n",
    "from keras.models import Sequential\n",
    "from keras.layers import Dense\n",
    "from keras.layers import Dropout\n",
    "from keras.layers import LSTM\n",
    "from keras.callbacks import ModelCheckpoint\n",
    "from keras.utils import np_utils"
   ]
  },
  {
   "cell_type": "code",
   "execution_count": 4,
   "metadata": {
    "collapsed": false
   },
   "outputs": [
    {
     "name": "stdout",
     "output_type": "stream",
     "text": [
      "Total Characters:  169841\n",
      "Total Vocab:  53\n",
      "Total Patterns:  169741\n",
      "Seed:\n",
      "\" en advertida de lo que había de responder, le dijo:\n",
      "\n",
      "-¿qué aposento, o qué nada, busca vuestra m \"\n"
     ]
    }
   ],
   "source": [
    "# Load the book and covert it to lowercase\n",
    "filename = \"El ingenioso hidalgo don Quijote de la Mancha (learning version).txt\"\n",
    "book = open(filename).read()\n",
    "book = book.lower()\n",
    "\n",
    "# Create mapping of unique chars to integers, and its reverse\n",
    "chars = sorted(list(set(book)))\n",
    "char_to_int = dict((c, i) for i, c in enumerate(chars))\n",
    "int_to_char = dict((i, c) for i, c in enumerate(chars))\n",
    "\n",
    "# Summarizing the loaded data\n",
    "n_chars = len(book)\n",
    "n_vocab = len(chars)\n",
    "print \"Total Characters: \", n_chars\n",
    "print \"Total Vocab: \", n_vocab\n",
    "\n",
    "# Prepare the dataset of input to output pairs encoded as integers\n",
    "seq_length = 100\n",
    "dataX = []\n",
    "dataY = []\n",
    "\n",
    "# Iterating over the book\n",
    "for i in range(0, n_chars - seq_length, 1):\n",
    "    sequence_in = book[i:i + seq_length]\n",
    "    sequence_out = book[i + seq_length]\n",
    "    \n",
    "    # Converting each char to its corresponding int\n",
    "    sequence_in_int = [char_to_int[char] for char in sequence_in]\n",
    "    sequence_out_int = char_to_int[sequence_out]\n",
    "\n",
    "    # Appending the result to the current data \n",
    "    dataX.append(sequence_in_int)\n",
    "    dataY.append(sequence_out_int)\n",
    "n_patterns = len(dataX)\n",
    "print \"Total Patterns: \", n_patterns\n",
    "\n",
    "# Reshaping X to be [samples, time steps, features]\n",
    "X = np.reshape(dataX, (n_patterns, seq_length, 1))\n",
    "# Normalizing\n",
    "X = X / float(n_vocab)\n",
    "# One hot encode the output variable\n",
    "y = np_utils.to_categorical(dataY)\n",
    "\n",
    "# Define the LSTM model\n",
    "model = Sequential()\n",
    "model.add(LSTM(256, input_shape=(X.shape[1], X.shape[2]), return_sequences=True))\n",
    "model.add(Dropout(0.2))\n",
    "model.add(LSTM(256))\n",
    "model.add(Dropout(0.2))\n",
    "model.add(Dense(y.shape[1], activation='softmax'))\n",
    "\n",
    "# Load the network weights\n",
    "filename = \"weights-improvement-03-1.4625.hdf5\"\n",
    "model.load_weights(filename)\n",
    "model.compile(loss='categorical_crossentropy', optimizer='adam')\n",
    "\n",
    "# Pick a random seed\n",
    "start = np.random.randint(0, len(dataX)-1)\n",
    "pattern = dataX[start]\n",
    "seed = ''.join([int_to_char[value] for value in pattern])\n",
    "print \"Seed:\"\n",
    "print \"\\\"\", seed, \"\\\"\"\n",
    "result_str = \"\""
   ]
  },
  {
   "cell_type": "markdown",
   "metadata": {},
   "source": [
    "Now, we'll use our model to generate a single prediction: we're not even going to learn a character for it, we simply want to check the output array"
   ]
  },
  {
   "cell_type": "code",
   "execution_count": 5,
   "metadata": {
    "collapsed": true
   },
   "outputs": [],
   "source": [
    "# Generate characters\n",
    "x = np.reshape(pattern, (1, len(pattern), 1))\n",
    "x = x / float(n_vocab)\n",
    "prediction = model.predict(x, verbose=0)"
   ]
  },
  {
   "cell_type": "code",
   "execution_count": 8,
   "metadata": {
    "collapsed": false
   },
   "outputs": [
    {
     "name": "stdout",
     "output_type": "stream",
     "text": [
      "[[  9.32860331e-08   6.03365288e-06   2.39249455e-20   1.71725629e-37\n",
      "    9.86871685e-37   5.24590093e-41   6.46692873e-22   2.52526746e-07\n",
      "    4.47217879e-14   2.45524223e-08   3.95824087e-14   6.05850873e-12\n",
      "    1.60745153e-10   3.88618112e-02   9.67724759e-07   3.66645423e-07\n",
      "    1.19763985e-08   9.07419145e-01   4.21649077e-07   4.44439621e-07\n",
      "    7.69924036e-09   9.97275673e-03   1.32874218e-08   4.90474704e-05\n",
      "    4.88973410e-06   1.14809307e-04   2.43147891e-02   2.45739614e-07\n",
      "    4.04799833e-10   8.91197182e-04   1.59814925e-04   6.82486098e-06\n",
      "    1.04477759e-02   5.19759169e-07   2.14637756e-13   1.22084441e-06\n",
      "    2.07428366e-06   5.11083757e-18   4.53893275e-18   6.82661122e-14\n",
      "    9.85387993e-10   7.61603454e-12   1.31578578e-17   8.42543202e-10\n",
      "    3.34366215e-13   1.10627493e-10   6.25858698e-10   2.04194449e-13\n",
      "    3.23132249e-15   4.92435260e-18   9.55458042e-23   7.74442824e-03]]\n",
      "52\n"
     ]
    }
   ],
   "source": [
    "print(prediction)"
   ]
  },
  {
   "cell_type": "markdown",
   "metadata": {},
   "source": [
    "As we can see, the array contains numbers between 0 and 1; each one represents the probability of the character in that position of being the correct character to output. However, this doesn't seem to be a very clear representation. Let's see it graphically."
   ]
  },
  {
   "cell_type": "code",
   "execution_count": 27,
   "metadata": {
    "collapsed": false
   },
   "outputs": [
    {
     "data": {
      "image/png": "[encoded data removed]",
      "text/plain": [
       "<matplotlib.figure.Figure at 0x3dc75438>"
      ]
     },
     "metadata": {},
     "output_type": "display_data"
    }
   ],
   "source": [
    "# Creating the indices array\n",
    "indices = np.arange(len(prediction[0]))\n",
    "\n",
    "# Creating the plots\n",
    "fig, ax = plt.subplots()\n",
    "preds = ax.bar(indices, prediction[0])\n",
    "\n",
    "# Adding some text for labels and titles\n",
    "ax.set_ylabel('Probability')\n",
    "ax.set_title('Probabilty of each character of being the correct output')\n",
    "ax.set_xticks(indices)\n",
    "ax.set_xticklabels((c for c in chars if ord(c) < 0x81))  # We can't use non ascii chars as label\n",
    "plt.show()"
   ]
  },
  {
   "cell_type": "code",
   "execution_count": 31,
   "metadata": {
    "collapsed": false
   },
   "outputs": [
    {
     "data": {
      "image/png": "[encoded data removed]",
      "text/plain": [
       "<matplotlib.figure.Figure at 0x3c7e76a0>"
      ]
     },
     "metadata": {},
     "output_type": "display_data"
    }
   ],
   "source": [
    "prob_cum = np.cumsum(prediction[0])\n",
    "\n",
    "# Creating the indices array\n",
    "indices = np.arange(len(prob_cum))\n",
    "\n",
    "# Creating the plots\n",
    "fig, ax = plt.subplots()\n",
    "preds = ax.bar(indices, prob_cum)\n",
    "\n",
    "# Adding some text for labels and titles\n",
    "ax.set_ylabel('Probability')\n",
    "ax.set_title('Probabilty of each character of being the correct output')\n",
    "ax.set_xticks(indices)\n",
    "ax.set_xticklabels((c for c in chars if ord(c) < 0x81))  # We can't use non ascii chars as label\n",
    "plt.show()"
   ]
  },
  {
   "cell_type": "code",
   "execution_count": null,
   "metadata": {
    "collapsed": true
   },
   "outputs": [],
   "source": []
  }
 ],
 "metadata": {
  "kernelspec": {
   "display_name": "Python 2",
   "language": "python",
   "name": "python2"
  },
  "language_info": {
   "codemirror_mode": {
    "name": "ipython",
    "version": 2
   },
   "file_extension": ".py",
   "mimetype": "text/x-python",
   "name": "python",
   "nbconvert_exporter": "python",
   "pygments_lexer": "ipython2",
   "version": "2.7.13"
  }
 },
 "nbformat": 4,
 "nbformat_minor": 2
}
